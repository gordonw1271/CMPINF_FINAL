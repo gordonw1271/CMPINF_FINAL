{
 "cells": [
  {
   "cell_type": "markdown",
   "metadata": {},
   "source": [
    "### Goal is to find average index value of each town for each parameter\n",
    "### PM10 is the most considered size when measuring air quality so I will be striclty focusing on the index value of PM10 in all neighborhoods"
   ]
  },
  {
   "cell_type": "code",
   "execution_count": 79,
   "metadata": {},
   "outputs": [
    {
     "name": "stdout",
     "output_type": "stream",
     "text": [
      "Parkway East             7882\n",
      "North Braddock           6319\n",
      "Lawrenceville 2          5254\n",
      "Liberty 2                5190\n",
      "Harrison Township        5090\n",
      "South Fayette            4769\n",
      "Avalon                   4194\n",
      "Lawrenceville            4168\n",
      "Flag Plaza               4002\n",
      "Lincoln                  3574\n",
      "Liberty                  2648\n",
      "Glassport High Street    2634\n",
      "Pittsburgh               1925\n",
      "Clairton                  695\n",
      "West Mifflin              301\n",
      "Name: site, dtype: int64\n"
     ]
    }
   ],
   "source": [
    "import pandas as pd\n",
    "data = pd.read_table(\"air_quality.csv\",sep=',')\n",
    "print(data['site'].value_counts())"
   ]
  },
  {
   "cell_type": "code",
   "execution_count": 86,
   "metadata": {},
   "outputs": [
    {
     "name": "stdout",
     "output_type": "stream",
     "text": [
      "Parkway East: 0\n",
      "North Braddock: 10.3498674744415\n",
      "Lawrenceville 2: 2.4992360580595876\n",
      "Liberty 2: 0\n",
      "Harrison Township: 0\n",
      "South Fayette: 2.5687992988606485\n",
      "Avalon: 1.1387315968289922\n",
      "Lawrenceville: 0\n",
      "Flag Plaza: 0\n",
      "Lincoln: 0\n",
      "Liberty: 18.70430513595166\n",
      "Glassport High Street: 0\n",
      "Pittsburgh: 0\n",
      "Clairton: 7.27355623100304\n",
      "West Mifflin: 6.335548172757475\n"
     ]
    }
   ],
   "source": [
    "list = ['Parkway East', 'North Braddock','Lawrenceville 2','Liberty 2', 'Harrison Township','South Fayette','Avalon',\n",
    "        'Lawrenceville','Flag Plaza','Lincoln','Liberty','Glassport High Street','Pittsburgh','Clairton','West Mifflin']\n",
    "\n",
    "ind = 100\n",
    "out =''\n",
    "for a in list:\n",
    "    data1 = data[(data['parameter']=='SO2') & (data['site']== a)]\n",
    "    l = len(data1)\n",
    "    s = data1['index_value'].sum()\n",
    "    \n",
    "    if l == 0:\n",
    "        print(a + \": 0\")\n",
    "    else:\n",
    "        if s/l < ind:\n",
    "            out = a\n",
    "        print(a + \": \"+ str(s/l))\n",
    "print(out)"
   ]
  },
  {
   "cell_type": "code",
   "execution_count": null,
   "metadata": {},
   "outputs": [],
   "source": []
  }
 ],
 "metadata": {
  "kernelspec": {
   "display_name": "Python 3",
   "language": "python",
   "name": "python3"
  },
  "language_info": {
   "codemirror_mode": {
    "name": "ipython",
    "version": 3
   },
   "file_extension": ".py",
   "mimetype": "text/x-python",
   "name": "python",
   "nbconvert_exporter": "python",
   "pygments_lexer": "ipython3",
   "version": "3.8.3"
  }
 },
 "nbformat": 4,
 "nbformat_minor": 4
}
